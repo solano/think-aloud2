{
 "cells": [
  {
   "attachments": {},
   "cell_type": "markdown",
   "metadata": {},
   "source": [
    "# Analysis of transitions at subrow level\n",
    "\n",
    "There seems to be no effect."
   ]
  },
  {
   "cell_type": "code",
   "execution_count": 2,
   "metadata": {
    "vscode": {
     "languageId": "r"
    }
   },
   "outputs": [],
   "source": [
    "# Load packages -----\n",
    "library(tidyverse)\n",
    "library(lmerTest)\n"
   ]
  },
  {
   "cell_type": "code",
   "execution_count": 3,
   "metadata": {
    "vscode": {
     "languageId": "r"
    }
   },
   "outputs": [],
   "source": [
    "\n",
    "# Load data -------\n",
    "subdf <- read.csv('..\\\\..\\\\data\\\\subrow_as_embedding_transitions.csv',\n",
    "                   sep='\\t', fileEncoding='utf8')\n",
    "csubdf = subdf"
   ]
  },
  {
   "cell_type": "code",
   "execution_count": 4,
   "metadata": {
    "vscode": {
     "languageId": "r"
    }
   },
   "outputs": [],
   "source": [
    "\n",
    "# Fixed effects models ------\n",
    "\n",
    "fe01 <- lm(length ~ ADHD, data=csubdf)\n"
   ]
  },
  {
   "cell_type": "code",
   "execution_count": 6,
   "metadata": {
    "vscode": {
     "languageId": "r"
    }
   },
   "outputs": [
    {
     "name": "stderr",
     "output_type": "stream",
     "text": [
      "Warning message in optwrap(optimizer, devfun, getStart(start, rho$lower, rho$pp), :\n",
      "\"convergence code -4 from nloptwrap\""
     ]
    },
    {
     "ename": "ERROR",
     "evalue": "Error in eval(predvars, data, env): objet 'idprob' introuvable\n",
     "output_type": "error",
     "traceback": [
      "Error in eval(predvars, data, env): objet 'idprob' introuvable\nTraceback:\n",
      "1. lmer(length ~ ADHD + (1 | suj) + (1 | idprob), data = csubdf)",
      "2. eval.parent(mc)",
      "3. eval(expr, p)",
      "4. eval(expr, p)",
      "5. lme4::lmer(formula = length ~ ADHD + (1 | suj) + (1 | idprob), \n .     data = csubdf)",
      "6. eval(mc, parent.frame(1L))",
      "7. eval(mc, parent.frame(1L))",
      "8. lme4::lFormula(formula = length ~ ADHD + (1 | suj) + (1 | idprob), \n .     data = csubdf, control = structure(list(optimizer = \"nloptwrap\", \n .         restart_edge = TRUE, boundary.tol = 1e-05, calc.derivs = TRUE, \n .         use.last.params = FALSE, checkControl = list(check.nobs.vs.rankZ = \"ignore\", \n .             check.nobs.vs.nlev = \"stop\", check.nlev.gtreq.5 = \"ignore\", \n .             check.nlev.gtr.1 = \"stop\", check.nobs.vs.nRE = \"stop\", \n .             check.rankX = \"message+drop.cols\", check.scaleX = \"warning\", \n .             check.formula.LHS = \"stop\"), checkConv = list(check.conv.grad = list(\n .             action = \"warning\", tol = 0.002, relTol = NULL), \n .             check.conv.singular = list(action = \"message\", tol = 1e-04), \n .             check.conv.hess = list(action = \"warning\", tol = 1e-06)), \n .         optCtrl = list()), class = c(\"lmerControl\", \"merControl\"\n .     )))",
      "9. eval(mf, parent.frame())",
      "10. eval(mf, parent.frame())",
      "11. stats::model.frame(data = csubdf, drop.unused.levels = TRUE, \n  .     formula = length ~ ADHD + (1 + suj) + (1 + idprob))",
      "12. model.frame.default(data = csubdf, drop.unused.levels = TRUE, \n  .     formula = length ~ ADHD + (1 + suj) + (1 + idprob))",
      "13. eval(predvars, data, env)",
      "14. eval(predvars, data, env)"
     ]
    }
   ],
   "source": [
    "\n",
    "# Mixed effects models ------\n",
    "\n",
    "me01 <- lmer(length ~ ADHD + (1|suj), data=csubdf)\n",
    "me02 <- lmer(length ~ ADHD + genre + age + (1|suj), data=csubdf)\n",
    "\n",
    "me03 <- lmer(ADHD ~ length + (1|suj), data=csubdf) # does not converge\n",
    "\n",
    "me04 <- lmer(length ~ ADHD_inatt + ADHD_impuls + (1|suj), data=csubdf)\n",
    "me05 <- lmer(length ~ ADHD_inatt + ADHD_impuls + genre + age + (1|suj), data=csubdf)\n",
    "\n",
    "\n",
    "# MEWS does not predict anything\n",
    "me06 <- lmer(length ~ ADHD + MEWS + (1|suj), data=csubdf)\n",
    "me07 <- lmer(length ~ ADHD + MEWS + age + genre + (1|suj), data=csubdf)\n",
    "me08 <- lmer(length ~ ADHD_inatt + ADHD_impuls + MEWS + (1|suj), data=csubdf)\n",
    "me09 <- lmer(length ~ ADHD_inatt + ADHD_impuls + MEWS + age + genre + (1|suj), data=csubdf)\n",
    "\n",
    "# Add probe-level predictor\n",
    "me10 <- lmer(length ~ ADHD + (1|suj) + (1|idprob), data=csubdf)\n",
    "# TODO: see how manyy unique probes there are\n",
    "\n",
    "me11 <- lmer(length ~ MEWS + (1|suj), data=csubdf)\n",
    "\n",
    "# ----------\n",
    "# We want to:\n",
    "# 1. \"Keep it maximal\", i.e. fit the most complex model consistent with\n",
    "# experimental design that does not result in a singular fit\n",
    "# 2. Eventually compare models through some criterion like AIC or BIC\n"
   ]
  },
  {
   "cell_type": "code",
   "execution_count": 7,
   "metadata": {
    "vscode": {
     "languageId": "r"
    }
   },
   "outputs": [
    {
     "data": {
      "text/plain": [
       "Backward reduced random-effect table:\n",
       "\n",
       "          Eliminated npar logLik     AIC    LRT Df Pr(>Chisq)    \n",
       "<none>                  7 1556.7 -3099.4                         \n",
       "(1 | suj)          0    6 1524.7 -3037.4 63.994  1  1.248e-15 ***\n",
       "---\n",
       "Signif. codes:  0 '***' 0.001 '**' 0.01 '*' 0.05 '.' 0.1 ' ' 1\n",
       "\n",
       "Backward reduced fixed-effect table:\n",
       "Degrees of freedom method: Satterthwaite \n",
       "\n",
       "            Eliminated    Sum Sq   Mean Sq NumDF   DenDF F value Pr(>F)\n",
       "ADHD_impuls          1 0.0022024 0.0022024     1  65.887  0.1215 0.7285\n",
       "genre                2 0.0035966 0.0035966     1  79.411  0.1985 0.6572\n",
       "age                  3 0.0057624 0.0057624     1 117.295  0.3180 0.5739\n",
       "ADHD_inatt           4 0.0196885 0.0196885     1  80.675  1.0866 0.3003\n",
       "\n",
       "Model found:\n",
       "length ~ (1 | suj)"
      ]
     },
     "metadata": {},
     "output_type": "display_data"
    }
   ],
   "source": [
    "step(me05)"
   ]
  },
  {
   "cell_type": "code",
   "execution_count": null,
   "metadata": {
    "vscode": {
     "languageId": "r"
    }
   },
   "outputs": [],
   "source": []
  }
 ],
 "metadata": {
  "kernelspec": {
   "display_name": "R",
   "language": "R",
   "name": "ir"
  },
  "language_info": {
   "codemirror_mode": "r",
   "file_extension": ".r",
   "mimetype": "text/x-r-source",
   "name": "R",
   "pygments_lexer": "r",
   "version": "3.6.1"
  },
  "orig_nbformat": 4
 },
 "nbformat": 4,
 "nbformat_minor": 2
}
