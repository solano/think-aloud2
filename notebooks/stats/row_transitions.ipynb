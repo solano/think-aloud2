{
 "cells": [
  {
   "cell_type": "markdown",
   "metadata": {},
   "source": [
    "# Analysis of transitions at row level\n",
    "\n",
    "- Inattention decreases speed, has no effect on length and increases interval.\n",
    "- Impulsivity has no effect on speed, length or interval."
   ]
  },
  {
   "cell_type": "code",
   "execution_count": 2,
   "metadata": {
    "vscode": {
     "languageId": "r"
    }
   },
   "outputs": [],
   "source": [
    "# Load packages -----\n",
    "library(tidyverse)\n",
    "library(lme4)\n",
    "library(lmerTest)\n"
   ]
  },
  {
   "cell_type": "code",
   "execution_count": 3,
   "metadata": {
    "vscode": {
     "languageId": "r"
    }
   },
   "outputs": [],
   "source": [
    "\n",
    "# Load data -------\n",
    "rowdf <- read.csv('..\\\\..\\\\data\\\\row_as_embedding_transitions.csv',\n",
    "                 sep='\\t', fileEncoding='utf8')\n",
    "crowdf <- rowdf"
   ]
  },
  {
   "cell_type": "code",
   "execution_count": 4,
   "metadata": {
    "vscode": {
     "languageId": "r"
    }
   },
   "outputs": [
    {
     "name": "stderr",
     "output_type": "stream",
     "text": [
      "Warning message in checkConv(attr(opt, \"derivs\"), opt$par, ctrl = control$checkConv, :\n",
      "\"Model failed to converge with max|grad| = 3.13261 (tol = 0.002, component 1)\"Warning message in checkConv(attr(opt, \"derivs\"), opt$par, ctrl = control$checkConv, :\n",
      "\"Model is nearly unidentifiable: very large eigenvalue\n",
      " - Rescale variables?\""
     ]
    }
   ],
   "source": [
    "# Fixed effects models ------\n",
    "\n",
    "fe01 <- lm(speed ~ ADHD, data=crowdf)\n",
    "fe02 <- lm(length ~ ADHD, data=crowdf)\n",
    "fe03 <- lm(interv ~ ADHD, data=crowdf)\n",
    "\n",
    "# Mixed effects models ------\n",
    "\n",
    "# Total ADHD, no MEWS\n",
    "me01 <- lmer(speed ~ ADHD + (1|suj), data=crowdf)\n",
    "me02 <- lmer(length ~ ADHD + (1|suj), data=crowdf)\n",
    "me03 <- lmer(interv ~ ADHD + (1|suj), data=crowdf)\n",
    "me01c <- lmer(speed ~ ADHD + genre + age + (1|suj), data=crowdf)\n",
    "me02c <- lmer(length ~ ADHD + genre + age + (1|suj), data=crowdf)\n",
    "me03c <- lmer(interv ~ ADHD + genre + age + (1|suj), data=crowdf)\n",
    "\n",
    "me04 <- lmer(ADHD ~ length + interv + (1|suj), data=crowdf) # does not converge\n",
    "\n",
    "# ADHD divided into first 9 and last 9 questions, no MEWS\n",
    "me05 <- lmer(speed ~ ADHD_inatt + ADHD_impuls + (1|suj), data=crowdf)\n",
    "me06 <- lmer(length ~ ADHD_inatt + ADHD_impuls + (1|suj), data=crowdf) #!!!\n",
    "me07 <- lmer(interv ~ ADHD_inatt + ADHD_impuls + (1|suj), data=crowdf)\n",
    "me05c <- lmer(speed ~ ADHD_inatt + ADHD_impuls + genre + age + (1|suj), data=crowdf)\n",
    "me06c <- lmer(length ~ ADHD_inatt + ADHD_impuls + genre + age + (1|suj), data=crowdf)\n",
    "me07c <- lmer(interv ~ ADHD_inatt + ADHD_impuls + genre + age + (1|suj), data=crowdf)\n",
    "\n",
    "# Pause predictions. We only seem to be able to do it by masking out\n",
    "# the 15% of transitions which have null pauses\n",
    "me08 <- lmer(pause ~ ADHD_inatt + ADHD_impuls + (1|suj), data=crowdf)\n",
    "me09 <- lmer(pause ~ ADHD + (1|suj), data=crowdf)\n",
    "crowdf_masked <- filter(crowdf, pause > 0)\n",
    "me10 <- lmer(pause ~ ADHD_inatt + ADHD_impuls + (1|suj), data=crowdf_masked)\n",
    "me11 <- lmer(pause ~ ADHD_inatt + ADHD_impuls + genre + age + (1|suj), data=crowdf_masked)\n",
    "\n",
    "# MEWS does not seem to predict anything\n",
    "me12 <- lmer(length ~ ADHD + MEWS + (1|suj), data=crowdf)\n",
    "me13 <- lmer(interv ~ ADHD + MEWS + (1|suj), data=crowdf)\n",
    "me14 <- lmer(speed ~ ADHD + MEWS + (1|suj), data=crowdf)\n",
    "\n",
    "# -------------\n",
    "# We want to:\n",
    "# 1. \"Keep it maximal\", i.e. fit the most complex model consistent with\n",
    "# experimental design that does not result in a singular fit\n",
    "# 2. Eventually compare models through some criterion like AIC or BIC\n"
   ]
  },
  {
   "cell_type": "code",
   "execution_count": 5,
   "metadata": {
    "vscode": {
     "languageId": "r"
    }
   },
   "outputs": [
    {
     "data": {
      "text/plain": [
       "Backward reduced random-effect table:\n",
       "\n",
       "          Eliminated npar logLik     AIC    LRT Df Pr(>Chisq)    \n",
       "<none>                  7 2139.3 -4264.7                         \n",
       "(1 | suj)          0    6 1934.8 -3857.5 409.16  1  < 2.2e-16 ***\n",
       "---\n",
       "Signif. codes:  0 '***' 0.001 '**' 0.01 '*' 0.05 '.' 0.1 ' ' 1\n",
       "\n",
       "Backward reduced fixed-effect table:\n",
       "Degrees of freedom method: Satterthwaite \n",
       "\n",
       "            Eliminated   Sum Sq  Mean Sq NumDF  DenDF F value  Pr(>F)  \n",
       "genre                1 0.000035 0.000035     1 62.706  0.0059 0.93881  \n",
       "ADHD_impuls          2 0.000897 0.000897     1 58.687  0.1501 0.69989  \n",
       "age                  3 0.012512 0.012512     1 77.487  2.0935 0.15196  \n",
       "ADHD_inatt           0 0.036245 0.036245     1 62.964  6.0620 0.01656 *\n",
       "---\n",
       "Signif. codes:  0 '***' 0.001 '**' 0.01 '*' 0.05 '.' 0.1 ' ' 1\n",
       "\n",
       "Model found:\n",
       "speed ~ ADHD_inatt + (1 | suj)"
      ]
     },
     "metadata": {},
     "output_type": "display_data"
    }
   ],
   "source": [
    "step(me05c)"
   ]
  },
  {
   "cell_type": "code",
   "execution_count": 6,
   "metadata": {
    "vscode": {
     "languageId": "r"
    }
   },
   "outputs": [
    {
     "data": {
      "text/plain": [
       "Linear mixed model fit by REML. t-tests use Satterthwaite's method [\n",
       "lmerModLmerTest]\n",
       "Formula: speed ~ ADHD_inatt + ADHD_impuls + (1 | suj)\n",
       "   Data: crowdf\n",
       "\n",
       "REML criterion at convergence: -4293.4\n",
       "\n",
       "Scaled residuals: \n",
       "    Min      1Q  Median      3Q     Max \n",
       "-2.9664 -0.6459 -0.1760  0.4651  5.8058 \n",
       "\n",
       "Random effects:\n",
       " Groups   Name        Variance Std.Dev.\n",
       " suj      (Intercept) 0.003556 0.05964 \n",
       " Residual             0.005979 0.07732 \n",
       "Number of obs: 1977, groups:  suj, 82\n",
       "\n",
       "Fixed effects:\n",
       "              Estimate Std. Error         df t value Pr(>|t|)    \n",
       "(Intercept)  0.2345152  0.0353528 60.7161621   6.634    1e-08 ***\n",
       "ADHD_inatt  -0.0036691  0.0016128 63.2343692  -2.275   0.0263 *  \n",
       "ADHD_impuls -0.0005119  0.0014535 58.5538915  -0.352   0.7260    \n",
       "---\n",
       "Signif. codes:  0 '***' 0.001 '**' 0.01 '*' 0.05 '.' 0.1 ' ' 1\n",
       "\n",
       "Correlation of Fixed Effects:\n",
       "            (Intr) ADHD_n\n",
       "ADHD_inatt  -0.739       \n",
       "ADHD_impuls -0.432 -0.256"
      ]
     },
     "metadata": {},
     "output_type": "display_data"
    }
   ],
   "source": [
    "summary(me05)"
   ]
  },
  {
   "cell_type": "code",
   "execution_count": 7,
   "metadata": {
    "vscode": {
     "languageId": "r"
    }
   },
   "outputs": [
    {
     "data": {
      "text/plain": [
       "Backward reduced random-effect table:\n",
       "\n",
       "          Eliminated npar logLik     AIC    LRT Df Pr(>Chisq)    \n",
       "<none>                  7 1147.2 -2280.3                         \n",
       "(1 | suj)          0    6 1115.3 -2218.7 63.657  1  1.481e-15 ***\n",
       "---\n",
       "Signif. codes:  0 '***' 0.001 '**' 0.01 '*' 0.05 '.' 0.1 ' ' 1\n",
       "\n",
       "Backward reduced fixed-effect table:\n",
       "Degrees of freedom method: Satterthwaite \n",
       "\n",
       "            Eliminated   Sum Sq  Mean Sq NumDF   DenDF F value  Pr(>F)  \n",
       "ADHD_impuls          1 0.000046 0.000046     1  65.676  0.0027 0.95902  \n",
       "genre                2 0.000110 0.000110     1  77.625  0.0063 0.93673  \n",
       "age                  3 0.034155 0.034155     1 114.067  1.9738 0.16276  \n",
       "ADHD_inatt           4 0.058542 0.058542     1  80.598  3.3850 0.06947 .\n",
       "---\n",
       "Signif. codes:  0 '***' 0.001 '**' 0.01 '*' 0.05 '.' 0.1 ' ' 1\n",
       "\n",
       "Model found:\n",
       "length ~ (1 | suj)"
      ]
     },
     "metadata": {},
     "output_type": "display_data"
    }
   ],
   "source": [
    "step(me06c)"
   ]
  },
  {
   "cell_type": "code",
   "execution_count": 8,
   "metadata": {
    "vscode": {
     "languageId": "r"
    }
   },
   "outputs": [
    {
     "data": {
      "text/plain": [
       "Backward reduced random-effect table:\n",
       "\n",
       "          Eliminated npar  logLik     AIC    LRT Df Pr(>Chisq)    \n",
       "<none>                  7 -4812.9  9639.9                         \n",
       "(1 | suj)          0    6 -5097.6 10207.1 569.25  1  < 2.2e-16 ***\n",
       "---\n",
       "Signif. codes:  0 '***' 0.001 '**' 0.01 '*' 0.05 '.' 0.1 ' ' 1\n",
       "\n",
       "Backward reduced fixed-effect table:\n",
       "Degrees of freedom method: Satterthwaite \n",
       "\n",
       "            Eliminated Sum Sq Mean Sq NumDF  DenDF F value   Pr(>F)   \n",
       "genre                1  0.145   0.145     1 77.368  0.0211 0.884871   \n",
       "ADHD_impuls          2  1.594   1.594     1 72.624  0.2316 0.631815   \n",
       "age                  3  7.868   7.868     1 94.550  1.1428 0.287784   \n",
       "ADHD_inatt           0 53.654  53.654     1 78.116  7.7918 0.006595 **\n",
       "---\n",
       "Signif. codes:  0 '***' 0.001 '**' 0.01 '*' 0.05 '.' 0.1 ' ' 1\n",
       "\n",
       "Model found:\n",
       "interv ~ ADHD_inatt + (1 | suj)"
      ]
     },
     "metadata": {},
     "output_type": "display_data"
    }
   ],
   "source": [
    "step(me07c)"
   ]
  },
  {
   "cell_type": "code",
   "execution_count": 9,
   "metadata": {
    "vscode": {
     "languageId": "r"
    }
   },
   "outputs": [
    {
     "data": {
      "text/plain": [
       "Linear mixed model fit by REML. t-tests use Satterthwaite's method [\n",
       "lmerModLmerTest]\n",
       "Formula: interv ~ ADHD_inatt + ADHD_impuls + (1 | suj)\n",
       "   Data: crowdf\n",
       "\n",
       "REML criterion at convergence: 9624.4\n",
       "\n",
       "Scaled residuals: \n",
       "    Min      1Q  Median      3Q     Max \n",
       "-3.0638 -0.5073 -0.1234  0.3403  8.0317 \n",
       "\n",
       "Random effects:\n",
       " Groups   Name        Variance Std.Dev.\n",
       " suj      (Intercept) 4.276    2.068   \n",
       " Residual             6.886    2.624   \n",
       "Number of obs: 1977, groups:  suj, 82\n",
       "\n",
       "Fixed effects:\n",
       "            Estimate Std. Error       df t value Pr(>|t|)  \n",
       "(Intercept)  1.52152    1.22283 75.52056   1.244   0.2173  \n",
       "ADHD_inatt   0.14317    0.05577 78.55717   2.567   0.0121 *\n",
       "ADHD_impuls  0.02297    0.05029 72.91060   0.457   0.6492  \n",
       "---\n",
       "Signif. codes:  0 '***' 0.001 '**' 0.01 '*' 0.05 '.' 0.1 ' ' 1\n",
       "\n",
       "Correlation of Fixed Effects:\n",
       "            (Intr) ADHD_n\n",
       "ADHD_inatt  -0.739       \n",
       "ADHD_impuls -0.433 -0.256"
      ]
     },
     "metadata": {},
     "output_type": "display_data"
    }
   ],
   "source": [
    "summary(me07)"
   ]
  },
  {
   "cell_type": "code",
   "execution_count": null,
   "metadata": {
    "vscode": {
     "languageId": "r"
    }
   },
   "outputs": [],
   "source": []
  }
 ],
 "metadata": {
  "kernelspec": {
   "display_name": "R",
   "language": "R",
   "name": "ir"
  },
  "language_info": {
   "codemirror_mode": "r",
   "file_extension": ".r",
   "mimetype": "text/x-r-source",
   "name": "R",
   "pygments_lexer": "r",
   "version": "3.6.1"
  },
  "orig_nbformat": 4,
  "vscode": {
   "interpreter": {
    "hash": "4812294c6f66d1324ff60e8be9c61f62a5f209d02eb7146b1d2633c46157a481"
   }
  }
 },
 "nbformat": 4,
 "nbformat_minor": 2
}
