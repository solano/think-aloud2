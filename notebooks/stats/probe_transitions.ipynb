{
 "cells": [
  {
   "attachments": {},
   "cell_type": "markdown",
   "metadata": {},
   "source": [
    "# Analysis of transitions at probe level"
   ]
  },
  {
   "cell_type": "code",
   "execution_count": 2,
   "metadata": {
    "vscode": {
     "languageId": "r"
    }
   },
   "outputs": [],
   "source": [
    "# Load packages -----\n",
    "library(tidyverse)\n",
    "library(lme4)\n",
    "library(lmerTest)\n"
   ]
  },
  {
   "cell_type": "code",
   "execution_count": 3,
   "metadata": {
    "vscode": {
     "languageId": "r"
    }
   },
   "outputs": [],
   "source": [
    "\n",
    "# Load data -------\n",
    "probdf <- read.csv('..\\\\..\\\\data\\\\probe_as_embedding_transitions.csv',\n",
    "                 sep='\\t', fileEncoding='utf8')\n",
    "cprobdf = probdf"
   ]
  },
  {
   "cell_type": "code",
   "execution_count": 4,
   "metadata": {
    "vscode": {
     "languageId": "r"
    }
   },
   "outputs": [
    {
     "name": "stderr",
     "output_type": "stream",
     "text": [
      "Warning message in checkConv(attr(opt, \"derivs\"), opt$par, ctrl = control$checkConv, :\n",
      "\"Model failed to converge with max|grad| = 0.850491 (tol = 0.002, component 1)\"Warning message in checkConv(attr(opt, \"derivs\"), opt$par, ctrl = control$checkConv, :\n",
      "\"Model is nearly unidentifiable: very large eigenvalue\n",
      " - Rescale variables?\""
     ]
    }
   ],
   "source": [
    "\n",
    "# Fixed effects models ------\n",
    "\n",
    "fe01 <- lm(length ~ ADHD, data=cprobdf)\n",
    "\n",
    "# Mixed effects models ------\n",
    "\n",
    "me01 <- lmer(length ~ ADHD + (1|suj), data=cprobdf)\n",
    "me01c <- lmer(length ~ ADHD + genre + age + (1|suj), data=cprobdf)\n",
    "\n",
    "me02 <- lmer(ADHD ~ length + (1|suj), data=cprobdf) # does not converge\n",
    "\n",
    "me03 <- lmer(length ~ ADHD_inatt + ADHD_impuls + (1|suj), data=cprobdf)\n",
    "me03c <- lmer(length ~ ADHD_inatt + ADHD_impuls + genre + age + (1|suj), data=cprobdf)\n",
    "\n",
    "# MEWS here actually does predict something !\n",
    "me04 <- lmer(length ~ ADHD + MEWS + (1|suj), data=cprobdf)\n",
    "me04c <- lmer(length ~ ADHD + MEWS + age + genre + (1|suj), data=cprobdf)\n",
    "me05 <- lmer(length ~ ADHD_inatt + ADHD_impuls + MEWS + (1|suj), data=cprobdf)\n",
    "me05c <- lmer(length ~ ADHD_inatt + ADHD_impuls + MEWS + age + genre + (1|suj), data=cprobdf)\n",
    "\n",
    "# ----------\n",
    "# We want to:\n",
    "# 1. \"Keep it maximal\", i.e. fit the most complex model consistent with\n",
    "# experimental design that does not result in a singular fit\n",
    "# 2. Eventually compare models through some criterion like AIC or BIC\n"
   ]
  },
  {
   "cell_type": "code",
   "execution_count": 5,
   "metadata": {
    "vscode": {
     "languageId": "r"
    }
   },
   "outputs": [
    {
     "data": {
      "text/plain": [
       "Backward reduced random-effect table:\n",
       "\n",
       "          Eliminated npar logLik     AIC   LRT Df Pr(>Chisq)    \n",
       "<none>                  7 893.87 -1773.8                        \n",
       "(1 | suj)          0    6 680.17 -1348.3 427.4  1  < 2.2e-16 ***\n",
       "---\n",
       "Signif. codes:  0 '***' 0.001 '**' 0.01 '*' 0.05 '.' 0.1 ' ' 1\n",
       "\n",
       "Backward reduced fixed-effect table:\n",
       "Degrees of freedom method: Satterthwaite \n",
       "\n",
       "            Eliminated   Sum Sq  Mean Sq NumDF  DenDF F value   Pr(>F)    \n",
       "age                  1 0.002859 0.002859     1 82.475  0.3444 0.558904    \n",
       "genre                2 0.003307 0.003307     1 81.051  0.3983 0.529751    \n",
       "ADHD_inatt           3 0.030721 0.030721     1 81.934  3.7001 0.057881 .  \n",
       "ADHD_impuls          0 0.104806 0.104806     1 83.067 12.6237 0.000631 ***\n",
       "---\n",
       "Signif. codes:  0 '***' 0.001 '**' 0.01 '*' 0.05 '.' 0.1 ' ' 1\n",
       "\n",
       "Model found:\n",
       "length ~ ADHD_impuls + (1 | suj)"
      ]
     },
     "metadata": {},
     "output_type": "display_data"
    }
   ],
   "source": [
    "step(me03c)"
   ]
  },
  {
   "cell_type": "code",
   "execution_count": 6,
   "metadata": {
    "vscode": {
     "languageId": "r"
    }
   },
   "outputs": [
    {
     "data": {
      "text/plain": [
       "Linear mixed model fit by REML. t-tests use Satterthwaite's method [\n",
       "lmerModLmerTest]\n",
       "Formula: length ~ ADHD_inatt + ADHD_impuls + (1 | suj)\n",
       "   Data: cprobdf\n",
       "\n",
       "REML criterion at convergence: -1802.8\n",
       "\n",
       "Scaled residuals: \n",
       "    Min      1Q  Median      3Q     Max \n",
       "-3.3557 -0.5826 -0.0889  0.5257  4.2793 \n",
       "\n",
       "Random effects:\n",
       " Groups   Name        Variance Std.Dev.\n",
       " suj      (Intercept) 0.007092 0.08422 \n",
       " Residual             0.008303 0.09112 \n",
       "Number of obs: 1042, groups:  suj, 85\n",
       "\n",
       "Fixed effects:\n",
       "             Estimate Std. Error        df t value Pr(>|t|)    \n",
       "(Intercept)  0.514145   0.044715 81.583004  11.498  < 2e-16 ***\n",
       "ADHD_inatt  -0.003971   0.002064 81.933951  -1.924  0.05788 .  \n",
       "ADHD_impuls -0.005683   0.001935 82.188024  -2.936  0.00431 ** \n",
       "---\n",
       "Signif. codes:  0 '***' 0.001 '**' 0.01 '*' 0.05 '.' 0.1 ' ' 1\n",
       "\n",
       "Correlation of Fixed Effects:\n",
       "            (Intr) ADHD_n\n",
       "ADHD_inatt  -0.709       \n",
       "ADHD_impuls -0.449 -0.277"
      ]
     },
     "metadata": {},
     "output_type": "display_data"
    }
   ],
   "source": [
    "summary(me03)"
   ]
  },
  {
   "cell_type": "code",
   "execution_count": null,
   "metadata": {
    "vscode": {
     "languageId": "r"
    }
   },
   "outputs": [],
   "source": []
  }
 ],
 "metadata": {
  "kernelspec": {
   "display_name": "R",
   "language": "R",
   "name": "ir"
  },
  "language_info": {
   "codemirror_mode": "r",
   "file_extension": ".r",
   "mimetype": "text/x-r-source",
   "name": "R",
   "pygments_lexer": "r",
   "version": "3.6.1"
  },
  "orig_nbformat": 4
 },
 "nbformat": 4,
 "nbformat_minor": 2
}
