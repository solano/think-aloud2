{
 "cells": [
  {
   "cell_type": "markdown",
   "id": "7223e68e",
   "metadata": {},
   "source": [
    "# Analysis of circuitousness"
   ]
  },
  {
   "cell_type": "code",
   "execution_count": 2,
   "id": "960909f6",
   "metadata": {},
   "outputs": [],
   "source": [
    "library(tidyverse)\n",
    "library(lmerTest)"
   ]
  },
  {
   "cell_type": "code",
   "execution_count": 3,
   "id": "02f8560a",
   "metadata": {},
   "outputs": [],
   "source": [
    "subcircdf <- read.csv('..\\\\data\\\\circ_subrows.csv',\n",
    "                     sep='\\t', fileEncoding='utf8')\n",
    "rowcircdf <- read.csv('..\\\\data\\\\circ_rows.csv',\n",
    "                     sep='\\t', fileEncoding='utf8')\n",
    "probcircdf <- read.csv('..\\\\data\\\\circ_probes.csv',\n",
    "                      sep='\\t', fileEncoding='utf8')"
   ]
  },
  {
   "cell_type": "code",
   "execution_count": 4,
   "id": "e5036676",
   "metadata": {},
   "outputs": [],
   "source": [
    "# Fixed effects models, subrow level  ---------\n",
    "fe01 <- lm(circ ~ ADHD, data=subcircdf)\n",
    "fe01c <- lm(circ ~ ADHD + age + genre, data=subcircdf)\n",
    "fe02 <- lm(circ ~ ADHD_inatt + ADHD_impuls, data=subcircdf)\n",
    "fe03 <- lm(circ ~ MEWS, data=subcircdf)\n",
    "fe04 <- lm(circ ~ ADHD + MEWS, data=subcircdf)\n",
    "\n",
    "# Mixed effects models, subrow level --------\n",
    "me01 <- lmer(circ ~ ADHD + (1|suj), data=subcircdf)\n",
    "me02 <- lmer(circ ~ ADHD_inatt + ADHD_impuls + (1|suj), data=subcircdf)\n",
    "me02c <- lmer(circ ~ ADHD_inatt + ADHD_impuls + (1|suj) + age + genre, data=subcircdf)\n",
    "me03 <- lmer(circ ~ MEWS + (1|suj), data=subcircdf)\n",
    "me04 <- lmer(circ ~ ADHD + MEWS + (1|suj), data=subcircdf)\n",
    "me05 <- lmer(circ ~ ADHD_inatt + ADHD_impuls + MEWS + (1|suj), data=subcircdf)\n",
    "me05c <- lmer(circ ~ ADHD_inatt + ADHD_impuls + MEWS + (1|suj) + age + genre, data=subcircdf)\n",
    "\n",
    "# Fixed effects models, row level  ---------\n",
    "fe01 <- lm(circ ~ ADHD, data=rowcircdf)\n",
    "fe01c <- lm(circ ~ ADHD + age + genre, data=rowcircdf)\n",
    "fe02 <- lm(circ ~ ADHD_inatt + ADHD_impuls, data=rowcircdf)\n",
    "fe03 <- lm(circ ~ MEWS, data=rowcircdf)\n",
    "fe04 <- lm(circ ~ ADHD + MEWS, data=rowcircdf)\n",
    "\n",
    "# Mixed effects models, row level --------\n",
    "me01 <- lmer(circ ~ ADHD + (1|suj), data=rowcircdf)\n",
    "me02 <- lmer(circ ~ ADHD_inatt + ADHD_impuls + (1|suj), data=rowcircdf)\n",
    "me02c <- lmer(circ ~ ADHD_inatt + ADHD_impuls + (1|suj) + age + genre, data=rowcircdf)\n",
    "me03 <- lmer(circ ~ MEWS + (1|suj), data=rowcircdf)\n",
    "me04 <- lmer(circ ~ ADHD + MEWS + (1|suj), data=rowcircdf)\n",
    "me05 <- lmer(circ ~ ADHD_inatt + ADHD_impuls + MEWS + (1|suj), data=rowcircdf)\n",
    "me05c <- lmer(circ ~ ADHD_inatt + ADHD_impuls + MEWS + (1|suj) + age + genre, data=rowcircdf)\n",
    "\n",
    "\n",
    "# Fixed effects models, probe level  ---------\n",
    "fe01 <- lm(circ ~ ADHD, data=probcircdf)\n",
    "fe01c <- lm(circ ~ ADHD + age + genre, data=probcircdf)\n",
    "fe02 <- lm(circ ~ ADHD_inatt + ADHD_impuls, data=probcircdf)\n",
    "fe03 <- lm(circ ~ MEWS, data=probcircdf)\n",
    "fe04 <- lm(circ ~ ADHD + MEWS, data=probcircdf)\n",
    "\n",
    "# Mixed effects models, probe level --------\n",
    "me01 <- lmer(circ ~ ADHD + (1|suj), data=probcircdf)\n",
    "me02 <- lmer(circ ~ ADHD_inatt + ADHD_impuls + (1|suj), data=probcircdf)\n",
    "me02c <- lmer(circ ~ ADHD_inatt + ADHD_impuls + (1|suj) + age + genre, data=probcircdf)\n",
    "me03 <- lmer(circ ~ MEWS + (1|suj), data=probcircdf)\n",
    "me04 <- lmer(circ ~ ADHD + MEWS + (1|suj), data=probcircdf)\n",
    "me05 <- lmer(circ ~ ADHD_inatt + ADHD_impuls + MEWS + (1|suj), data=probcircdf)\n",
    "me05c <- lmer(circ ~ ADHD_inatt + ADHD_impuls + MEWS + (1|suj) + age + genre, data=probcircdf)\n",
    "\n"
   ]
  }
 ],
 "metadata": {
  "kernelspec": {
   "display_name": "R",
   "language": "R",
   "name": "ir"
  },
  "language_info": {
   "codemirror_mode": "r",
   "file_extension": ".r",
   "mimetype": "text/x-r-source",
   "name": "R",
   "pygments_lexer": "r",
   "version": "3.6.1"
  }
 },
 "nbformat": 4,
 "nbformat_minor": 5
}
