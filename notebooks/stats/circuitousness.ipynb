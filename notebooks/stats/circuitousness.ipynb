{
 "cells": [
  {
   "cell_type": "markdown",
   "id": "7223e68e",
   "metadata": {},
   "source": [
    "# Analysis of circuitousness"
   ]
  },
  {
   "cell_type": "code",
   "execution_count": 2,
   "id": "960909f6",
   "metadata": {
    "vscode": {
     "languageId": "r"
    }
   },
   "outputs": [],
   "source": [
    "library(tidyverse)\n",
    "library(lmerTest)"
   ]
  },
  {
   "cell_type": "code",
   "execution_count": 5,
   "id": "02f8560a",
   "metadata": {
    "vscode": {
     "languageId": "r"
    }
   },
   "outputs": [],
   "source": [
    "subcircdf <- read.csv('..\\\\..\\\\data\\\\circ_subrows.csv',\n",
    "                     sep='\\t', fileEncoding='utf8')\n",
    "rowcircdf <- read.csv('..\\\\..\\\\data\\\\circ_rows.csv',\n",
    "                     sep='\\t', fileEncoding='utf8')\n",
    "probcircdf <- read.csv('..\\\\..\\\\data\\\\circ_probes.csv',\n",
    "                      sep='\\t', fileEncoding='utf8')"
   ]
  },
  {
   "cell_type": "code",
   "execution_count": 6,
   "id": "e5036676",
   "metadata": {
    "vscode": {
     "languageId": "r"
    }
   },
   "outputs": [],
   "source": [
    "# Fixed effects models, subrow level  ---------\n",
    "fe01 <- lm(circ ~ ADHD, data=subcircdf)\n",
    "fe01c <- lm(circ ~ ADHD + age + genre, data=subcircdf)\n",
    "fe02 <- lm(circ ~ ADHD_inatt + ADHD_impuls, data=subcircdf)\n",
    "fe03 <- lm(circ ~ MEWS, data=subcircdf)\n",
    "fe04 <- lm(circ ~ ADHD + MEWS, data=subcircdf)\n",
    "\n",
    "# Mixed effects models, subrow level --------\n",
    "me01 <- lmer(circ ~ ADHD + (1|suj), data=subcircdf)\n",
    "me02 <- lmer(circ ~ ADHD_inatt + ADHD_impuls + (1|suj), data=subcircdf)\n",
    "me02c <- lmer(circ ~ ADHD_inatt + ADHD_impuls + (1|suj) + age + genre, data=subcircdf)\n",
    "me03 <- lmer(circ ~ MEWS + (1|suj), data=subcircdf)\n",
    "me04 <- lmer(circ ~ ADHD + MEWS + (1|suj), data=subcircdf)\n",
    "me05 <- lmer(circ ~ ADHD_inatt + ADHD_impuls + MEWS + (1|suj), data=subcircdf)\n",
    "me05c <- lmer(circ ~ ADHD_inatt + ADHD_impuls + MEWS + (1|suj) + age + genre, data=subcircdf)\n",
    "\n",
    "# Fixed effects models, row level  ---------\n",
    "fe01 <- lm(circ ~ ADHD, data=rowcircdf)\n",
    "fe01c <- lm(circ ~ ADHD + age + genre, data=rowcircdf)\n",
    "fe02 <- lm(circ ~ ADHD_inatt + ADHD_impuls, data=rowcircdf)\n",
    "fe03 <- lm(circ ~ MEWS, data=rowcircdf)\n",
    "fe04 <- lm(circ ~ ADHD + MEWS, data=rowcircdf)\n",
    "\n",
    "# Mixed effects models, row level --------\n",
    "me01 <- lmer(circ ~ ADHD + (1|suj), data=rowcircdf)\n",
    "me02 <- lmer(circ ~ ADHD_inatt + ADHD_impuls + (1|suj), data=rowcircdf)\n",
    "me02c <- lmer(circ ~ ADHD_inatt + ADHD_impuls + (1|suj) + age + genre, data=rowcircdf)\n",
    "me03 <- lmer(circ ~ MEWS + (1|suj), data=rowcircdf)\n",
    "me04 <- lmer(circ ~ ADHD + MEWS + (1|suj), data=rowcircdf)\n",
    "me05 <- lmer(circ ~ ADHD_inatt + ADHD_impuls + MEWS + (1|suj), data=rowcircdf)\n",
    "me05c <- lmer(circ ~ ADHD_inatt + ADHD_impuls + MEWS + (1|suj) + age + genre, data=rowcircdf)\n",
    "\n",
    "\n",
    "# Fixed effects models, probe level  ---------\n",
    "fe01 <- lm(circ ~ ADHD, data=probcircdf)\n",
    "fe01c <- lm(circ ~ ADHD + age + genre, data=probcircdf)\n",
    "fe02 <- lm(circ ~ ADHD_inatt + ADHD_impuls, data=probcircdf)\n",
    "fe03 <- lm(circ ~ MEWS, data=probcircdf)\n",
    "fe04 <- lm(circ ~ ADHD + MEWS, data=probcircdf)\n",
    "\n",
    "# Mixed effects models, probe level --------\n",
    "me01 <- lmer(circ ~ ADHD + (1|suj), data=probcircdf)\n",
    "me02 <- lmer(circ ~ ADHD_inatt + ADHD_impuls + (1|suj), data=probcircdf)\n",
    "me02c <- lmer(circ ~ ADHD_inatt + ADHD_impuls + (1|suj) + age + genre, data=probcircdf)\n",
    "me03 <- lmer(circ ~ MEWS + (1|suj), data=probcircdf)\n",
    "me04 <- lmer(circ ~ ADHD + MEWS + (1|suj), data=probcircdf)\n",
    "me05 <- lmer(circ ~ ADHD_inatt + ADHD_impuls + MEWS + (1|suj), data=probcircdf)\n",
    "me05c <- lmer(circ ~ ADHD_inatt + ADHD_impuls + MEWS + (1|suj) + age + genre, data=probcircdf)\n",
    "\n"
   ]
  },
  {
   "cell_type": "code",
   "execution_count": 12,
   "id": "2fd9db58",
   "metadata": {
    "vscode": {
     "languageId": "r"
    }
   },
   "outputs": [
    {
     "data": {
      "text/plain": [
       "Linear mixed model fit by REML ['lmerModLmerTest']\n",
       "Formula: circ ~ ADHD_inatt + ADHD_impuls + (1 | suj) + age + genre\n",
       "   Data: probcircdf\n",
       "REML criterion at convergence: -128.7855\n",
       "Random effects:\n",
       " Groups   Name        Std.Dev.\n",
       " suj      (Intercept) 0.0818  \n",
       " Residual             0.1293  \n",
       "Number of obs: 172, groups:  suj, 86\n",
       "Fixed Effects:\n",
       "(Intercept)   ADHD_inatt  ADHD_impuls          age       genreM  \n",
       "  1.3177022   -0.0069800    0.0008543   -0.0031687   -0.0154328  "
      ]
     },
     "metadata": {},
     "output_type": "display_data"
    }
   ],
   "source": [
    "me02c"
   ]
  },
  {
   "cell_type": "code",
   "execution_count": null,
   "id": "d66c733b",
   "metadata": {
    "vscode": {
     "languageId": "r"
    }
   },
   "outputs": [],
   "source": []
  }
 ],
 "metadata": {
  "kernelspec": {
   "display_name": "R",
   "language": "R",
   "name": "ir"
  },
  "language_info": {
   "codemirror_mode": "r",
   "file_extension": ".r",
   "mimetype": "text/x-r-source",
   "name": "R",
   "pygments_lexer": "r",
   "version": "3.6.1"
  }
 },
 "nbformat": 4,
 "nbformat_minor": 5
}
