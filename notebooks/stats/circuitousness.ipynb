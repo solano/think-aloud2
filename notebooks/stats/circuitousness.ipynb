{
 "cells": [
  {
   "attachments": {},
   "cell_type": "markdown",
   "id": "7223e68e",
   "metadata": {},
   "source": [
    "# Analysis of circuitousness\n",
    "\n",
    "Summary: impulsivity increases circuitousness, inattention has no effect."
   ]
  },
  {
   "cell_type": "code",
   "execution_count": 2,
   "id": "960909f6",
   "metadata": {
    "vscode": {
     "languageId": "r"
    }
   },
   "outputs": [],
   "source": [
    "library(tidyverse)\n",
    "library(lmerTest)"
   ]
  },
  {
   "cell_type": "code",
   "execution_count": 3,
   "id": "02f8560a",
   "metadata": {
    "vscode": {
     "languageId": "r"
    }
   },
   "outputs": [],
   "source": [
    "subcircdf <- read.csv('..\\\\..\\\\data\\\\circ_subrows.csv',\n",
    "                     sep='\\t', fileEncoding='utf8')\n",
    "rowcircdf <- read.csv('..\\\\..\\\\data\\\\circ_rows.csv',\n",
    "                     sep='\\t', fileEncoding='utf8')\n",
    "probcircdf <- read.csv('..\\\\..\\\\data\\\\circ_probes.csv',\n",
    "                      sep='\\t', fileEncoding='utf8')"
   ]
  },
  {
   "cell_type": "code",
   "execution_count": 4,
   "id": "f0752920",
   "metadata": {
    "vscode": {
     "languageId": "r"
    }
   },
   "outputs": [
    {
     "data": {
      "text/html": [
       "<table>\n",
       "<thead><tr><th scope=col>suj</th><th scope=col>age</th><th scope=col>genre</th><th scope=col>exp</th><th scope=col>level</th><th scope=col>topic</th><th scope=col>ADHD</th><th scope=col>ADHD_inatt</th><th scope=col>ADHD_impuls</th><th scope=col>MEWS</th><th scope=col>bloc</th><th scope=col>prob</th><th scope=col>nbpoints</th><th scope=col>circ</th></tr></thead>\n",
       "<tbody>\n",
       "\t<tr><td>21         </td><td>18         </td><td>F          </td><td>aga        </td><td>BA1        </td><td>PSYCHOLOGIE</td><td>33         </td><td>21         </td><td>12         </td><td>15         </td><td>1          </td><td>2          </td><td>3          </td><td>1          </td></tr>\n",
       "\t<tr><td>21         </td><td>18         </td><td>F          </td><td>aga        </td><td>BA1        </td><td>PSYCHOLOGIE</td><td>33         </td><td>21         </td><td>12         </td><td>15         </td><td>1          </td><td>3          </td><td>2          </td><td>1          </td></tr>\n",
       "\t<tr><td>21         </td><td>18         </td><td>F          </td><td>aga        </td><td>BA1        </td><td>PSYCHOLOGIE</td><td>33         </td><td>21         </td><td>12         </td><td>15         </td><td>1          </td><td>4          </td><td>2          </td><td>1          </td></tr>\n",
       "\t<tr><td>21         </td><td>18         </td><td>F          </td><td>aga        </td><td>BA1        </td><td>PSYCHOLOGIE</td><td>33         </td><td>21         </td><td>12         </td><td>15         </td><td>1          </td><td>5          </td><td>4          </td><td>1          </td></tr>\n",
       "\t<tr><td>21         </td><td>18         </td><td>F          </td><td>aga        </td><td>BA1        </td><td>PSYCHOLOGIE</td><td>33         </td><td>21         </td><td>12         </td><td>15         </td><td>2          </td><td>1          </td><td>3          </td><td>1          </td></tr>\n",
       "\t<tr><td>21         </td><td>18         </td><td>F          </td><td>aga        </td><td>BA1        </td><td>PSYCHOLOGIE</td><td>33         </td><td>21         </td><td>12         </td><td>15         </td><td>2          </td><td>2          </td><td>2          </td><td>1          </td></tr>\n",
       "</tbody>\n",
       "</table>\n"
      ],
      "text/latex": [
       "\\begin{tabular}{r|llllllllllllll}\n",
       " suj & age & genre & exp & level & topic & ADHD & ADHD\\_inatt & ADHD\\_impuls & MEWS & bloc & prob & nbpoints & circ\\\\\n",
       "\\hline\n",
       "\t 21          & 18          & F           & aga         & BA1         & PSYCHOLOGIE & 33          & 21          & 12          & 15          & 1           & 2           & 3           & 1          \\\\\n",
       "\t 21          & 18          & F           & aga         & BA1         & PSYCHOLOGIE & 33          & 21          & 12          & 15          & 1           & 3           & 2           & 1          \\\\\n",
       "\t 21          & 18          & F           & aga         & BA1         & PSYCHOLOGIE & 33          & 21          & 12          & 15          & 1           & 4           & 2           & 1          \\\\\n",
       "\t 21          & 18          & F           & aga         & BA1         & PSYCHOLOGIE & 33          & 21          & 12          & 15          & 1           & 5           & 4           & 1          \\\\\n",
       "\t 21          & 18          & F           & aga         & BA1         & PSYCHOLOGIE & 33          & 21          & 12          & 15          & 2           & 1           & 3           & 1          \\\\\n",
       "\t 21          & 18          & F           & aga         & BA1         & PSYCHOLOGIE & 33          & 21          & 12          & 15          & 2           & 2           & 2           & 1          \\\\\n",
       "\\end{tabular}\n"
      ],
      "text/markdown": [
       "\n",
       "| suj | age | genre | exp | level | topic | ADHD | ADHD_inatt | ADHD_impuls | MEWS | bloc | prob | nbpoints | circ |\n",
       "|---|---|---|---|---|---|---|---|---|---|---|---|---|---|\n",
       "| 21          | 18          | F           | aga         | BA1         | PSYCHOLOGIE | 33          | 21          | 12          | 15          | 1           | 2           | 3           | 1           |\n",
       "| 21          | 18          | F           | aga         | BA1         | PSYCHOLOGIE | 33          | 21          | 12          | 15          | 1           | 3           | 2           | 1           |\n",
       "| 21          | 18          | F           | aga         | BA1         | PSYCHOLOGIE | 33          | 21          | 12          | 15          | 1           | 4           | 2           | 1           |\n",
       "| 21          | 18          | F           | aga         | BA1         | PSYCHOLOGIE | 33          | 21          | 12          | 15          | 1           | 5           | 4           | 1           |\n",
       "| 21          | 18          | F           | aga         | BA1         | PSYCHOLOGIE | 33          | 21          | 12          | 15          | 2           | 1           | 3           | 1           |\n",
       "| 21          | 18          | F           | aga         | BA1         | PSYCHOLOGIE | 33          | 21          | 12          | 15          | 2           | 2           | 2           | 1           |\n",
       "\n"
      ],
      "text/plain": [
       "  suj age genre exp level topic       ADHD ADHD_inatt ADHD_impuls MEWS bloc\n",
       "1 21  18  F     aga BA1   PSYCHOLOGIE 33   21         12          15   1   \n",
       "2 21  18  F     aga BA1   PSYCHOLOGIE 33   21         12          15   1   \n",
       "3 21  18  F     aga BA1   PSYCHOLOGIE 33   21         12          15   1   \n",
       "4 21  18  F     aga BA1   PSYCHOLOGIE 33   21         12          15   1   \n",
       "5 21  18  F     aga BA1   PSYCHOLOGIE 33   21         12          15   2   \n",
       "6 21  18  F     aga BA1   PSYCHOLOGIE 33   21         12          15   2   \n",
       "  prob nbpoints circ\n",
       "1 2    3        1   \n",
       "2 3    2        1   \n",
       "3 4    2        1   \n",
       "4 5    4        1   \n",
       "5 1    3        1   \n",
       "6 2    2        1   "
      ]
     },
     "metadata": {},
     "output_type": "display_data"
    }
   ],
   "source": [
    "head(subcircdf)"
   ]
  },
  {
   "cell_type": "code",
   "execution_count": 5,
   "id": "e5036676",
   "metadata": {
    "vscode": {
     "languageId": "r"
    }
   },
   "outputs": [],
   "source": [
    "# Fixed effects models, subrow level  ---------\n",
    "fe01 <- lm(circ ~ ADHD, data=subcircdf)\n",
    "fe01c <- lm(circ ~ ADHD + age + genre, data=subcircdf)\n",
    "fe02 <- lm(circ ~ ADHD_inatt + ADHD_impuls, data=subcircdf)\n",
    "fe03 <- lm(circ ~ MEWS, data=subcircdf)\n",
    "fe04 <- lm(circ ~ ADHD + MEWS, data=subcircdf)\n"
   ]
  },
  {
   "cell_type": "code",
   "execution_count": 6,
   "id": "6c891e5b",
   "metadata": {
    "vscode": {
     "languageId": "r"
    }
   },
   "outputs": [],
   "source": [
    "\n",
    "# Mixed effects models, subrow level --------\n",
    "me01 <- lmer(circ ~ ADHD + (1|suj), data=subcircdf)\n",
    "me02 <- lmer(circ ~ ADHD_inatt + ADHD_impuls + (1|suj), data=subcircdf)\n",
    "me02c <- lmer(circ ~ ADHD_inatt + ADHD_impuls + (1|suj) + age + genre, data=subcircdf)\n",
    "me03 <- lmer(circ ~ MEWS + (1|suj), data=subcircdf)\n",
    "me04 <- lmer(circ ~ ADHD + MEWS + (1|suj), data=subcircdf)\n",
    "me05 <- lmer(circ ~ ADHD_inatt + ADHD_impuls + MEWS + (1|suj), data=subcircdf)\n",
    "me05c <- lmer(circ ~ ADHD_inatt + ADHD_impuls + MEWS + (1|suj) + age + genre, data=subcircdf)\n",
    "\n",
    "me06 <- lmer(circ ~ ADHD + (1|suj) + (1|prob), data=subcircdf)\n",
    "me07 <- lmer(circ ~ ADHD_inatt + ADHD_impuls + (1|suj) + (1|prob), data=subcircdf)\n"
   ]
  },
  {
   "cell_type": "code",
   "execution_count": 7,
   "id": "cd8e8e0e",
   "metadata": {
    "vscode": {
     "languageId": "r"
    }
   },
   "outputs": [
    {
     "data": {
      "text/plain": [
       "Linear mixed model fit by REML. t-tests use Satterthwaite's method [\n",
       "lmerModLmerTest]\n",
       "Formula: circ ~ ADHD_inatt + ADHD_impuls + (1 | suj) + (1 | prob)\n",
       "   Data: subcircdf\n",
       "\n",
       "REML criterion at convergence: -866.7\n",
       "\n",
       "Scaled residuals: \n",
       "    Min      1Q  Median      3Q     Max \n",
       "-7.3899 -0.3084 -0.1145  0.0680  7.7341 \n",
       "\n",
       "Random effects:\n",
       " Groups   Name        Variance  Std.Dev.\n",
       " suj      (Intercept) 0.0196433 0.14015 \n",
       " prob     (Intercept) 0.0002655 0.01629 \n",
       " Residual             0.0164122 0.12811 \n",
       "Number of obs: 872, groups:  suj, 85; prob, 8\n",
       "\n",
       "Fixed effects:\n",
       "             Estimate Std. Error        df t value Pr(>|t|)    \n",
       "(Intercept)  0.982361   0.074861 85.102507  13.122   <2e-16 ***\n",
       "ADHD_inatt  -0.002388   0.003450 84.981891  -0.692   0.4908    \n",
       "ADHD_impuls  0.007943   0.003212 83.026527   2.473   0.0154 *  \n",
       "---\n",
       "Signif. codes:  0 '***' 0.001 '**' 0.01 '*' 0.05 '.' 0.1 ' ' 1\n",
       "\n",
       "Correlation of Fixed Effects:\n",
       "            (Intr) ADHD_n\n",
       "ADHD_inatt  -0.710       \n",
       "ADHD_impuls -0.441 -0.280"
      ]
     },
     "metadata": {},
     "output_type": "display_data"
    }
   ],
   "source": [
    "summary(me07)"
   ]
  },
  {
   "cell_type": "code",
   "execution_count": 8,
   "id": "3f6fe592",
   "metadata": {
    "vscode": {
     "languageId": "r"
    }
   },
   "outputs": [
    {
     "data": {
      "text/plain": [
       "Linear mixed model fit by REML. t-tests use Satterthwaite's method [\n",
       "lmerModLmerTest]\n",
       "Formula: circ ~ ADHD_inatt + ADHD_impuls + (1 | suj)\n",
       "   Data: subcircdf\n",
       "\n",
       "REML criterion at convergence: -862\n",
       "\n",
       "Scaled residuals: \n",
       "    Min      1Q  Median      3Q     Max \n",
       "-7.3748 -0.3070 -0.1130 -0.0111  7.6925 \n",
       "\n",
       "Random effects:\n",
       " Groups   Name        Variance Std.Dev.\n",
       " suj      (Intercept) 0.01944  0.1394  \n",
       " Residual             0.01667  0.1291  \n",
       "Number of obs: 872, groups:  suj, 85\n",
       "\n",
       "Fixed effects:\n",
       "             Estimate Std. Error        df t value Pr(>|t|)    \n",
       "(Intercept)  0.984270   0.074323 84.417331  13.243   <2e-16 ***\n",
       "ADHD_inatt  -0.002455   0.003436 85.116293  -0.715   0.4769    \n",
       "ADHD_impuls  0.007872   0.003198 83.113576   2.462   0.0159 *  \n",
       "---\n",
       "Signif. codes:  0 '***' 0.001 '**' 0.01 '*' 0.05 '.' 0.1 ' ' 1\n",
       "\n",
       "Correlation of Fixed Effects:\n",
       "            (Intr) ADHD_n\n",
       "ADHD_inatt  -0.712       \n",
       "ADHD_impuls -0.442 -0.280"
      ]
     },
     "metadata": {},
     "output_type": "display_data"
    }
   ],
   "source": [
    "summary(me02)"
   ]
  },
  {
   "cell_type": "code",
   "execution_count": 9,
   "id": "9294dc14",
   "metadata": {
    "vscode": {
     "languageId": "r"
    }
   },
   "outputs": [
    {
     "data": {
      "text/plain": [
       "Backward reduced random-effect table:\n",
       "\n",
       "          Eliminated npar logLik     AIC    LRT Df Pr(>Chisq)    \n",
       "<none>                  8 419.70 -823.40                         \n",
       "(1 | suj)          0    7 185.71 -357.42 467.98  1  < 2.2e-16 ***\n",
       "---\n",
       "Signif. codes:  0 '***' 0.001 '**' 0.01 '*' 0.05 '.' 0.1 ' ' 1\n",
       "\n",
       "Backward reduced fixed-effect table:\n",
       "Degrees of freedom method: Satterthwaite \n",
       "\n",
       "            Eliminated   Sum Sq  Mean Sq NumDF  DenDF F value  Pr(>F)  \n",
       "age                  1 0.001209 0.001209     1 86.507  0.0725 0.78835  \n",
       "MEWS                 2 0.003006 0.003006     1 82.784  0.1803 0.67224  \n",
       "ADHD_inatt           3 0.010306 0.010306     1 84.046  0.6182 0.43392  \n",
       "genre                4 0.016332 0.016332     1 85.855  0.9798 0.32502  \n",
       "ADHD_impuls          0 0.092949 0.092949     1 83.889  5.5762 0.02052 *\n",
       "---\n",
       "Signif. codes:  0 '***' 0.001 '**' 0.01 '*' 0.05 '.' 0.1 ' ' 1\n",
       "\n",
       "Model found:\n",
       "circ ~ ADHD_impuls + (1 | suj)"
      ]
     },
     "metadata": {},
     "output_type": "display_data"
    }
   ],
   "source": [
    "step(me05c)"
   ]
  },
  {
   "cell_type": "code",
   "execution_count": 10,
   "id": "7259a51d",
   "metadata": {
    "vscode": {
     "languageId": "r"
    }
   },
   "outputs": [
    {
     "data": {
      "text/plain": [
       "Linear mixed model fit by REML. t-tests use Satterthwaite's method [\n",
       "lmerModLmerTest]\n",
       "Formula: circ ~ ADHD_impuls + (1 | suj)\n",
       "   Data: subcircdf\n",
       "\n",
       "REML criterion at convergence: -871\n",
       "\n",
       "Scaled residuals: \n",
       "    Min      1Q  Median      3Q     Max \n",
       "-7.3640 -0.3085 -0.1107 -0.0037  7.7044 \n",
       "\n",
       "Random effects:\n",
       " Groups   Name        Variance Std.Dev.\n",
       " suj      (Intercept) 0.01934  0.1391  \n",
       " Residual             0.01667  0.1291  \n",
       "Number of obs: 872, groups:  suj, 85\n",
       "\n",
       "Fixed effects:\n",
       "             Estimate Std. Error        df t value Pr(>|t|)    \n",
       "(Intercept)  0.946441   0.052041 84.206301  18.186   <2e-16 ***\n",
       "ADHD_impuls  0.007232   0.003063 83.888964   2.361   0.0205 *  \n",
       "---\n",
       "Signif. codes:  0 '***' 0.001 '**' 0.01 '*' 0.05 '.' 0.1 ' ' 1\n",
       "\n",
       "Correlation of Fixed Effects:\n",
       "            (Intr)\n",
       "ADHD_impuls -0.952"
      ]
     },
     "metadata": {},
     "output_type": "display_data"
    }
   ],
   "source": [
    "summary(lmer(circ ~ ADHD_impuls + (1|suj), data=subcircdf))"
   ]
  },
  {
   "cell_type": "code",
   "execution_count": 11,
   "id": "474d3485",
   "metadata": {
    "vscode": {
     "languageId": "r"
    }
   },
   "outputs": [],
   "source": [
    "\n",
    "# Fixed effects models, row level  ---------\n",
    "fe01 <- lm(circ ~ ADHD, data=rowcircdf)\n",
    "fe01c <- lm(circ ~ ADHD + age + genre, data=rowcircdf)\n",
    "fe02 <- lm(circ ~ ADHD_inatt + ADHD_impuls, data=rowcircdf)\n",
    "fe03 <- lm(circ ~ MEWS, data=rowcircdf)\n",
    "fe04 <- lm(circ ~ ADHD + MEWS, data=rowcircdf)\n"
   ]
  },
  {
   "cell_type": "code",
   "execution_count": 12,
   "id": "c257b473",
   "metadata": {
    "vscode": {
     "languageId": "r"
    }
   },
   "outputs": [
    {
     "name": "stderr",
     "output_type": "stream",
     "text": [
      "Warning message in checkConv(attr(opt, \"derivs\"), opt$par, ctrl = control$checkConv, :\n",
      "\"Model failed to converge with max|grad| = 0.0025549 (tol = 0.002, component 1)\""
     ]
    }
   ],
   "source": [
    "\n",
    "# Mixed effects models, row level --------\n",
    "me01 <- lmer(circ ~ ADHD + (1|suj), data=rowcircdf)\n",
    "me02 <- lmer(circ ~ ADHD_inatt + ADHD_impuls + (1|suj), data=rowcircdf)\n",
    "me02c <- lmer(circ ~ ADHD_inatt + ADHD_impuls + (1|suj) + age + genre, data=rowcircdf)\n",
    "me03 <- lmer(circ ~ MEWS + (1|suj), data=rowcircdf)\n",
    "me04 <- lmer(circ ~ ADHD + MEWS + (1|suj), data=rowcircdf)\n",
    "me05 <- lmer(circ ~ ADHD_inatt + ADHD_impuls + MEWS + (1|suj), data=rowcircdf)\n",
    "me05c <- lmer(circ ~ ADHD_inatt + ADHD_impuls + MEWS + (1|suj) + age + genre, data=rowcircdf)\n",
    "\n",
    "me06 <- lmer(circ ~ ADHD + (1|suj) + (1|prob), data=rowcircdf)\n",
    "me07 <- lmer(circ ~ ADHD_inatt + ADHD_impuls + (1|suj) + (1|prob), data=rowcircdf)"
   ]
  },
  {
   "cell_type": "code",
   "execution_count": 13,
   "id": "94b20907",
   "metadata": {
    "vscode": {
     "languageId": "r"
    }
   },
   "outputs": [
    {
     "data": {
      "text/plain": [
       "Linear mixed model fit by REML. t-tests use Satterthwaite's method [\n",
       "lmerModLmerTest]\n",
       "Formula: circ ~ ADHD_inatt + ADHD_impuls + (1 | suj) + (1 | prob)\n",
       "   Data: rowcircdf\n",
       "\n",
       "REML criterion at convergence: -734.9\n",
       "\n",
       "Scaled residuals: \n",
       "    Min      1Q  Median      3Q     Max \n",
       "-7.7255 -0.2156 -0.0635  0.0040  7.9434 \n",
       "\n",
       "Random effects:\n",
       " Groups   Name        Variance  Std.Dev.\n",
       " suj      (Intercept) 0.0189469 0.137648\n",
       " prob     (Intercept) 0.0000226 0.004754\n",
       " Residual             0.0160094 0.126528\n",
       "Number of obs: 732, groups:  suj, 82; prob, 8\n",
       "\n",
       "Fixed effects:\n",
       "             Estimate Std. Error        df t value Pr(>|t|)    \n",
       "(Intercept)  0.978144   0.080360 81.894028  12.172  < 2e-16 ***\n",
       "ADHD_inatt  -0.004069   0.003651 84.559232  -1.115  0.26818    \n",
       "ADHD_impuls  0.009303   0.003330 81.035464   2.793  0.00651 ** \n",
       "---\n",
       "Signif. codes:  0 '***' 0.001 '**' 0.01 '*' 0.05 '.' 0.1 ' ' 1\n",
       "\n",
       "Correlation of Fixed Effects:\n",
       "            (Intr) ADHD_n\n",
       "ADHD_inatt  -0.736       \n",
       "ADHD_impuls -0.442 -0.250\n",
       "convergence code: 0\n",
       "Model failed to converge with max|grad| = 0.0025549 (tol = 0.002, component 1)\n"
      ]
     },
     "metadata": {},
     "output_type": "display_data"
    }
   ],
   "source": [
    "summary(me07)"
   ]
  },
  {
   "cell_type": "code",
   "execution_count": 14,
   "id": "b1e41f11",
   "metadata": {
    "vscode": {
     "languageId": "r"
    }
   },
   "outputs": [
    {
     "data": {
      "text/plain": [
       "Linear mixed model fit by REML. t-tests use Satterthwaite's method [\n",
       "lmerModLmerTest]\n",
       "Formula: circ ~ ADHD_impuls + (1 | suj)\n",
       "   Data: rowcircdf\n",
       "\n",
       "REML criterion at convergence: -743\n",
       "\n",
       "Scaled residuals: \n",
       "    Min      1Q  Median      3Q     Max \n",
       "-7.7192 -0.2119 -0.0588  0.0030  7.9512 \n",
       "\n",
       "Random effects:\n",
       " Groups   Name        Variance Std.Dev.\n",
       " suj      (Intercept) 0.01905  0.1380  \n",
       " Residual             0.01603  0.1266  \n",
       "Number of obs: 732, groups:  suj, 82\n",
       "\n",
       "Fixed effects:\n",
       "             Estimate Std. Error        df t value Pr(>|t|)    \n",
       "(Intercept)  0.912332   0.054551 82.177404  16.725   <2e-16 ***\n",
       "ADHD_impuls  0.008364   0.003232 81.548187   2.588   0.0114 *  \n",
       "---\n",
       "Signif. codes:  0 '***' 0.001 '**' 0.01 '*' 0.05 '.' 0.1 ' ' 1\n",
       "\n",
       "Correlation of Fixed Effects:\n",
       "            (Intr)\n",
       "ADHD_impuls -0.955"
      ]
     },
     "metadata": {},
     "output_type": "display_data"
    }
   ],
   "source": [
    "summary(lmer(circ ~ ADHD_impuls + (1|suj), data=rowcircdf))"
   ]
  },
  {
   "cell_type": "code",
   "execution_count": 15,
   "id": "3e4b5372",
   "metadata": {
    "vscode": {
     "languageId": "r"
    }
   },
   "outputs": [],
   "source": [
    "\n",
    "# Fixed effects models, probe level  ---------\n",
    "fe01 <- lm(circ ~ ADHD, data=probcircdf)\n",
    "fe01c <- lm(circ ~ ADHD + age + genre, data=probcircdf)\n",
    "fe02 <- lm(circ ~ ADHD_inatt + ADHD_impuls, data=probcircdf)\n",
    "fe03 <- lm(circ ~ MEWS, data=probcircdf)\n",
    "fe04 <- lm(circ ~ ADHD + MEWS, data=probcircdf)\n"
   ]
  },
  {
   "cell_type": "code",
   "execution_count": 16,
   "id": "52e20a87",
   "metadata": {
    "vscode": {
     "languageId": "r"
    }
   },
   "outputs": [],
   "source": [
    "\n",
    "# Mixed effects models, probe level --------\n",
    "me01 <- lmer(circ ~ ADHD + (1|suj), data=probcircdf)\n",
    "me02 <- lmer(circ ~ ADHD_inatt + ADHD_impuls + (1|suj), data=probcircdf)\n",
    "me02c <- lmer(circ ~ ADHD_inatt + ADHD_impuls + (1|suj) + age + genre, data=probcircdf)\n",
    "me03 <- lmer(circ ~ MEWS + (1|suj), data=probcircdf)\n",
    "me04 <- lmer(circ ~ ADHD + MEWS + (1|suj), data=probcircdf)\n",
    "me05 <- lmer(circ ~ ADHD_inatt + ADHD_impuls + MEWS + (1|suj), data=probcircdf)\n",
    "me05c <- lmer(circ ~ ADHD_inatt + ADHD_impuls + MEWS + (1|suj) + age + genre, data=probcircdf)\n",
    "\n",
    "#me06 <- lmer(circ ~ ADHD + (1|suj) + (1|prob), data=probcircdf)\n",
    "#me07 <- lmer(circ ~ ADHD_inatt + ADHD_impuls + (1|suj) + (1|prob), data=probcircdf)"
   ]
  },
  {
   "cell_type": "code",
   "execution_count": 18,
   "id": "c97bc5d9",
   "metadata": {
    "vscode": {
     "languageId": "r"
    }
   },
   "outputs": [
    {
     "data": {
      "text/plain": [
       "Backward reduced random-effect table:\n",
       "\n",
       "          Eliminated npar logLik      AIC    LRT Df Pr(>Chisq)   \n",
       "<none>                  8 58.323 -100.645                        \n",
       "(1 | suj)          0    7 54.942  -95.884 6.7613  1   0.009315 **\n",
       "---\n",
       "Signif. codes:  0 '***' 0.001 '**' 0.01 '*' 0.05 '.' 0.1 ' ' 1\n",
       "\n",
       "Backward reduced fixed-effect table:\n",
       "Degrees of freedom method: Satterthwaite \n",
       "\n",
       "            Eliminated   Sum Sq  Mean Sq NumDF DenDF F value  Pr(>F)  \n",
       "genre                1 0.003205 0.003205     1    79  0.1899 0.66422  \n",
       "age                  2 0.009964 0.009964     1    80  0.5903 0.44457  \n",
       "ADHD_impuls          3 0.015806 0.015806     1    81  0.9364 0.33607  \n",
       "MEWS                 4 0.028024 0.028024     1    82  1.6603 0.20118  \n",
       "ADHD_inatt           0 0.096366 0.096366     1    83  5.7092 0.01914 *\n",
       "---\n",
       "Signif. codes:  0 '***' 0.001 '**' 0.01 '*' 0.05 '.' 0.1 ' ' 1\n",
       "\n",
       "Model found:\n",
       "circ ~ ADHD_inatt + (1 | suj)"
      ]
     },
     "metadata": {},
     "output_type": "display_data"
    }
   ],
   "source": [
    "step(me05c)"
   ]
  },
  {
   "cell_type": "code",
   "execution_count": 20,
   "id": "d66c733b",
   "metadata": {
    "vscode": {
     "languageId": "r"
    }
   },
   "outputs": [
    {
     "data": {
      "text/plain": [
       "Linear mixed model fit by REML. t-tests use Satterthwaite's method [\n",
       "lmerModLmerTest]\n",
       "Formula: circ ~ ADHD_impuls + (1 | suj)\n",
       "   Data: probcircdf\n",
       "\n",
       "REML criterion at convergence: -142.9\n",
       "\n",
       "Scaled residuals: \n",
       "    Min      1Q  Median      3Q     Max \n",
       "-1.5295 -0.4113 -0.2108  0.0858  4.4445 \n",
       "\n",
       "Random effects:\n",
       " Groups   Name        Variance Std.Dev.\n",
       " suj      (Intercept) 0.007455 0.08634 \n",
       " Residual             0.016879 0.12992 \n",
       "Number of obs: 170, groups:  suj, 85\n",
       "\n",
       "Fixed effects:\n",
       "             Estimate Std. Error        df t value Pr(>|t|)    \n",
       "(Intercept)  1.143517   0.045114 83.000000  25.348   <2e-16 ***\n",
       "ADHD_impuls -0.001083   0.002658 83.000000  -0.408    0.685    \n",
       "---\n",
       "Signif. codes:  0 '***' 0.001 '**' 0.01 '*' 0.05 '.' 0.1 ' ' 1\n",
       "\n",
       "Correlation of Fixed Effects:\n",
       "            (Intr)\n",
       "ADHD_impuls -0.953"
      ]
     },
     "metadata": {},
     "output_type": "display_data"
    }
   ],
   "source": [
    "summary(lmer(circ ~ ADHD_impuls + (1|suj), data=probcircdf))"
   ]
  },
  {
   "cell_type": "code",
   "execution_count": null,
   "id": "36200dfa",
   "metadata": {
    "vscode": {
     "languageId": "r"
    }
   },
   "outputs": [],
   "source": []
  }
 ],
 "metadata": {
  "kernelspec": {
   "display_name": "R",
   "language": "R",
   "name": "ir"
  },
  "language_info": {
   "codemirror_mode": "r",
   "file_extension": ".r",
   "mimetype": "text/x-r-source",
   "name": "R",
   "pygments_lexer": "r",
   "version": "3.6.1"
  }
 },
 "nbformat": 4,
 "nbformat_minor": 5
}
