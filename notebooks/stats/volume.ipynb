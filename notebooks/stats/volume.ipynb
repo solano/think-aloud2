{
 "cells": [
  {
   "attachments": {},
   "cell_type": "markdown",
   "metadata": {},
   "source": [
    "# Analysis of volume\n",
    "\n",
    "Summary: inattention decreases volume, impulsivity decreases it."
   ]
  },
  {
   "cell_type": "code",
   "execution_count": 2,
   "metadata": {
    "vscode": {
     "languageId": "r"
    }
   },
   "outputs": [],
   "source": [
    "# Load packages -----\n",
    "library(tidyverse)\n",
    "library(lme4)\n",
    "library(lmerTest)\n"
   ]
  },
  {
   "cell_type": "code",
   "execution_count": 3,
   "metadata": {
    "vscode": {
     "languageId": "r"
    }
   },
   "outputs": [],
   "source": [
    "\n",
    "# Load data -------\n",
    "subvoldf <- read.csv('..\\\\..\\\\data\\\\volume_subrows.csv',\n",
    "                  sep='\\t', fileEncoding='utf8')\n",
    "rowvoldf <- read.csv('..\\\\..\\\\data\\\\volume_rows.csv',\n",
    "                     sep='\\t', fileEncoding='utf8')\n",
    "probvoldf <- read.csv('..\\\\..\\\\data\\\\volume_probes.csv',\n",
    "                     sep='\\t', fileEncoding='utf8')\n"
   ]
  },
  {
   "cell_type": "code",
   "execution_count": 4,
   "metadata": {
    "vscode": {
     "languageId": "r"
    }
   },
   "outputs": [],
   "source": [
    "\n",
    "# Fixed effects models, subrow level  ---------\n",
    "fe01 <- lm(vol ~ ADHD, data=subvoldf)\n",
    "fe01c <- lm(vol ~ ADHD + age + genre, data=subvoldf)\n",
    "fe02 <- lm(vol ~ ADHD_inatt + ADHD_impuls, data=subvoldf)\n",
    "fe03 <- lm(vol ~ MEWS, data=subvoldf)\n",
    "fe04 <- lm(vol ~ ADHD + MEWS, data=subvoldf)\n"
   ]
  },
  {
   "cell_type": "code",
   "execution_count": 6,
   "metadata": {
    "vscode": {
     "languageId": "r"
    }
   },
   "outputs": [
    {
     "name": "stdout",
     "output_type": "stream",
     "text": [
      "Start:  AIC=-553.5\n",
      "vol ~ ADHD_inatt + ADHD_impuls\n",
      "\n",
      "              Df Sum of Sq     RSS     AIC\n",
      "- ADHD_inatt   1 0.0006845 0.11838 -555.00\n",
      "<none>                     0.11769 -553.50\n",
      "- ADHD_impuls  1 0.0032788 0.12097 -553.16\n",
      "\n",
      "Step:  AIC=-555\n",
      "vol ~ ADHD_impuls\n",
      "\n",
      "              Df Sum of Sq     RSS     AIC\n",
      "- ADHD_impuls  1 0.0027111 0.12109 -555.08\n",
      "<none>                     0.11838 -555.00\n",
      "\n",
      "Step:  AIC=-555.08\n",
      "vol ~ 1\n",
      "\n"
     ]
    },
    {
     "data": {
      "text/plain": [
       "\n",
       "Call:\n",
       "lm(formula = vol ~ 1, data = subvoldf)\n",
       "\n",
       "Coefficients:\n",
       "(Intercept)  \n",
       "     0.2797  \n"
      ]
     },
     "metadata": {},
     "output_type": "display_data"
    }
   ],
   "source": [
    "step(fe02)"
   ]
  },
  {
   "cell_type": "code",
   "execution_count": 7,
   "metadata": {
    "vscode": {
     "languageId": "r"
    }
   },
   "outputs": [],
   "source": [
    "\n",
    "# Fixed effects models, row level  ---------\n",
    "fe01 <- lm(vol ~ ADHD, data=rowvoldf)\n",
    "fe01c <- lm(vol ~ ADHD + age + genre, data=rowvoldf)\n",
    "fe02 <- lm(vol ~ ADHD_inatt + ADHD_impuls, data=rowvoldf)\n",
    "fe03 <- lm(vol ~ MEWS, data=rowvoldf)\n",
    "fe04 <- lm(vol ~ ADHD + MEWS, data=rowvoldf)\n"
   ]
  },
  {
   "cell_type": "code",
   "execution_count": 11,
   "metadata": {
    "vscode": {
     "languageId": "r"
    }
   },
   "outputs": [
    {
     "name": "stdout",
     "output_type": "stream",
     "text": [
      "Start:  AIC=-538.78\n",
      "vol ~ ADHD_inatt + ADHD_impuls\n",
      "\n",
      "              Df Sum of Sq     RSS     AIC\n",
      "- ADHD_inatt   1 0.0029852 0.14293 -538.99\n",
      "<none>                     0.13994 -538.78\n",
      "- ADHD_impuls  1 0.0056083 0.14555 -537.44\n",
      "\n",
      "Step:  AIC=-538.99\n",
      "vol ~ ADHD_impuls\n",
      "\n",
      "              Df Sum of Sq     RSS     AIC\n",
      "<none>                     0.14293 -538.99\n",
      "- ADHD_impuls  1 0.0038747 0.14680 -538.71\n"
     ]
    },
    {
     "data": {
      "text/plain": [
       "\n",
       "Call:\n",
       "lm(formula = vol ~ ADHD_impuls, data = rowvoldf)\n",
       "\n",
       "Coefficients:\n",
       "(Intercept)  ADHD_impuls  \n",
       "   0.314267    -0.001312  \n"
      ]
     },
     "metadata": {},
     "output_type": "display_data"
    }
   ],
   "source": [
    "step(fe02)"
   ]
  },
  {
   "cell_type": "code",
   "execution_count": 12,
   "metadata": {
    "vscode": {
     "languageId": "r"
    }
   },
   "outputs": [],
   "source": [
    "\n",
    "# Fixed effects models, probe level  ---------\n",
    "fe01 <- lm(vol ~ ADHD, data=probvoldf)\n",
    "fe01c <- lm(vol ~ ADHD + age + genre, data=probvoldf)\n",
    "fe02 <- lm(vol ~ ADHD_inatt + ADHD_impuls, data=probvoldf)\n",
    "fe03 <- lm(vol ~ MEWS, data=probvoldf)\n",
    "fe04 <- lm(vol ~ ADHD + MEWS, data=probvoldf)\n",
    "\n"
   ]
  },
  {
   "cell_type": "code",
   "execution_count": 13,
   "metadata": {
    "vscode": {
     "languageId": "r"
    }
   },
   "outputs": [
    {
     "name": "stdout",
     "output_type": "stream",
     "text": [
      "Start:  AIC=-573.61\n",
      "vol ~ ADHD_inatt + ADHD_impuls\n",
      "\n",
      "              Df Sum of Sq      RSS     AIC\n",
      "<none>                     0.092895 -573.61\n",
      "- ADHD_impuls  1 0.0031990 0.096094 -572.73\n",
      "- ADHD_inatt   1 0.0068171 0.099713 -569.59\n"
     ]
    },
    {
     "data": {
      "text/plain": [
       "\n",
       "Call:\n",
       "lm(formula = vol ~ ADHD_inatt + ADHD_impuls, data = probvoldf)\n",
       "\n",
       "Coefficients:\n",
       "(Intercept)   ADHD_inatt  ADHD_impuls  \n",
       "   0.315413     0.001933    -0.001240  \n"
      ]
     },
     "metadata": {},
     "output_type": "display_data"
    }
   ],
   "source": [
    "step(fe02)"
   ]
  },
  {
   "cell_type": "code",
   "execution_count": 14,
   "metadata": {
    "vscode": {
     "languageId": "r"
    }
   },
   "outputs": [
    {
     "data": {
      "text/plain": [
       "\n",
       "Call:\n",
       "lm(formula = vol ~ ADHD_inatt + ADHD_impuls, data = probvoldf)\n",
       "\n",
       "Residuals:\n",
       "      Min        1Q    Median        3Q       Max \n",
       "-0.134486 -0.020942  0.005993  0.022498  0.054107 \n",
       "\n",
       "Coefficients:\n",
       "              Estimate Std. Error t value Pr(>|t|)    \n",
       "(Intercept)  0.3154132  0.0170838  18.463   <2e-16 ***\n",
       "ADHD_inatt   0.0019326  0.0007878   2.453   0.0163 *  \n",
       "ADHD_impuls -0.0012403  0.0007381  -1.680   0.0967 .  \n",
       "---\n",
       "Signif. codes:  0 '***' 0.001 '**' 0.01 '*' 0.05 '.' 0.1 ' ' 1\n",
       "\n",
       "Residual standard error: 0.03366 on 82 degrees of freedom\n",
       "Multiple R-squared:  0.07979,\tAdjusted R-squared:  0.05734 \n",
       "F-statistic: 3.555 on 2 and 82 DF,  p-value: 0.03307\n"
      ]
     },
     "metadata": {},
     "output_type": "display_data"
    }
   ],
   "source": [
    "summary(fe02)"
   ]
  }
 ],
 "metadata": {
  "kernelspec": {
   "display_name": "R",
   "language": "R",
   "name": "ir"
  },
  "language_info": {
   "codemirror_mode": "r",
   "file_extension": ".r",
   "mimetype": "text/x-r-source",
   "name": "R",
   "pygments_lexer": "r",
   "version": "3.6.1"
  },
  "orig_nbformat": 4,
  "vscode": {
   "interpreter": {
    "hash": "4812294c6f66d1324ff60e8be9c61f62a5f209d02eb7146b1d2633c46157a481"
   }
  }
 },
 "nbformat": 4,
 "nbformat_minor": 2
}
